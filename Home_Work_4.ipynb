{
  "nbformat": 4,
  "nbformat_minor": 0,
  "metadata": {
    "colab": {
      "provenance": [],
      "include_colab_link": true
    },
    "kernelspec": {
      "name": "python3",
      "display_name": "Python 3"
    },
    "language_info": {
      "name": "python"
    }
  },
  "cells": [
    {
      "cell_type": "markdown",
      "metadata": {
        "id": "view-in-github",
        "colab_type": "text"
      },
      "source": [
        "<a href=\"https://colab.research.google.com/github/Khafiz246810/CSE203-Data-structure-/blob/main/Home_Work_4.ipynb\" target=\"_parent\"><img src=\"https://colab.research.google.com/assets/colab-badge.svg\" alt=\"Open In Colab\"/></a>"
      ]
    },
    {
      "cell_type": "markdown",
      "source": [
        "(1) Write a recursive program to find the sum of first n numbers.\n",
        "sum = 1 +2 + 3 + .......n"
      ],
      "metadata": {
        "id": "EiPf8SqATnQG"
      }
    },
    {
      "cell_type": "code",
      "execution_count": null,
      "metadata": {
        "colab": {
          "base_uri": "https://localhost:8080/"
        },
        "id": "ZTnOZr7gSTiv",
        "outputId": "6b69a095-9419-452e-97d4-5bc1bb13b572"
      },
      "outputs": [
        {
          "output_type": "stream",
          "name": "stdout",
          "text": [
            "Enter a number : 10\n",
            "The sum is 55\n"
          ]
        }
      ],
      "source": [
        "\n",
        "def recur_sum(n):\n",
        "   if n <= 1:\n",
        "       return n\n",
        "   else:\n",
        "       return n + recur_sum(n-1)\n",
        "\n",
        "# change this value for a different result\n",
        "num = int(input(\"Enter a number : \"))\n",
        "\n",
        "if num < 0:\n",
        "   print(\"\")\n",
        "else:\n",
        "   print(\"The sum is\",recur_sum(num))\n"
      ]
    },
    {
      "cell_type": "markdown",
      "source": [
        "(2) Given a string, check whether the string is a palindrome or not . Write the\n",
        "recursive function. The function will return true or false"
      ],
      "metadata": {
        "id": "FtSYw5QcUaSo"
      }
    },
    {
      "cell_type": "code",
      "source": [
        "def Palindrome(str):\n",
        "\tfor i in range(0, int(len(str)/2)):\n",
        "\t\tif str[i] != str[len(str)-i-1]:\n",
        "\t\t\treturn False\n",
        "\treturn True\n",
        "\n",
        "s = input(\"Enter a String : \")\n",
        "ans = Palindrome(s)\n",
        "\n",
        "if (ans):\n",
        "\tprint(\"True\")\n",
        "else:\n",
        "\tprint(\"False\")\n"
      ],
      "metadata": {
        "colab": {
          "base_uri": "https://localhost:8080/"
        },
        "id": "5yjokNXxUdRL",
        "outputId": "52a134c6-8d5b-48f4-c142-dcae79ee7ef5"
      },
      "execution_count": null,
      "outputs": [
        {
          "output_type": "stream",
          "name": "stdout",
          "text": [
            "Enter a String : Python\n",
            "False\n"
          ]
        }
      ]
    },
    {
      "cell_type": "markdown",
      "source": [
        "(3) Given a integer number, check whether it is palindrome or not. Write recursive\n",
        "function. It will return true or false"
      ],
      "metadata": {
        "id": "zLk6BUMdixp9"
      }
    },
    {
      "cell_type": "code",
      "source": [
        "def Palindrome(str):\n",
        "\tfor i in range(0, int(len(str)/2)):\n",
        "\t\tif str[i] != str[len(str)-i-1]:\n",
        "\t\t\treturn False\n",
        "\treturn True\n",
        "\n",
        "s = input(\"Enter a Number: \")\n",
        "ans = Palindrome(s)\n",
        "\n",
        "if (ans):\n",
        "\tprint(\"True\")\n",
        "else:\n",
        "\tprint(\"False\")\n"
      ],
      "metadata": {
        "colab": {
          "base_uri": "https://localhost:8080/"
        },
        "id": "TP0scOkGi3Ci",
        "outputId": "04f2e775-04ea-4213-a391-fa1771690079"
      },
      "execution_count": null,
      "outputs": [
        {
          "output_type": "stream",
          "name": "stdout",
          "text": [
            "Enter a Number: 101\n",
            "True\n"
          ]
        }
      ]
    },
    {
      "cell_type": "markdown",
      "source": [
        "(4) Given two integers, find and print the GCD (Greatest Common Divisor) of them.\n",
        "The function will retrn the GCD"
      ],
      "metadata": {
        "id": "xiJojMTZnrD6"
      }
    },
    {
      "cell_type": "code",
      "source": [
        "\n",
        "def gcd(a, b):\n",
        "\n",
        "\t# Everything divides 0\n",
        "\tif (a == 0):\n",
        "\t\treturn b\n",
        "\tif (b == 0):\n",
        "\t\treturn a\n",
        "\n",
        "\t# base case\n",
        "\tif (a == b):\n",
        "\t\treturn a\n",
        "\n",
        "\t# a is greater\n",
        "\tif (a > b):\n",
        "\t\treturn gcd(a-b, b)\n",
        "\treturn gcd(a, b-a)\n",
        "\n",
        "\n",
        "a = int(input(\"Enter 1st Number : \"))\n",
        "b = int(input(\"Enter 2nd Number : \"))\n",
        "if(gcd(a, b)):\n",
        "\tprint('GCD of', a, 'and', b, 'is : ' , gcd(a, b))\n",
        "else:\n",
        "\tprint('not found')\n"
      ],
      "metadata": {
        "colab": {
          "base_uri": "https://localhost:8080/"
        },
        "id": "N0PoKGLWnvwq",
        "outputId": "7e605333-c387-4125-ff64-f5e66fa13fe2"
      },
      "execution_count": null,
      "outputs": [
        {
          "output_type": "stream",
          "name": "stdout",
          "text": [
            "Enter 1st Number : 100\n",
            "Enter 2nd Number : 50\n",
            "GCD of 100 and 50 is :  50\n"
          ]
        }
      ]
    },
    {
      "cell_type": "markdown",
      "source": [
        "(5) Reverse a string using Recursion"
      ],
      "metadata": {
        "id": "PVOnNpavqL8r"
      }
    },
    {
      "cell_type": "code",
      "source": [
        "def reverse(str):\n",
        "    if len(str) == 0:\n",
        "        return str\n",
        "    else:\n",
        "        return reverse(str[1:]) + str[0]\n",
        "a = str(input(\"Enter the string to be reversed: \"))\n",
        "print(reverse(a))"
      ],
      "metadata": {
        "colab": {
          "base_uri": "https://localhost:8080/"
        },
        "id": "hM4nfZ8FqN0h",
        "outputId": "9faab3f4-8e3f-4dcc-e2a5-14cf287aaa99"
      },
      "execution_count": null,
      "outputs": [
        {
          "output_type": "stream",
          "name": "stdout",
          "text": [
            "Enter the string to be reversed: I am Lerning Recirsion \n",
            " noisriceR gninreL ma I\n"
          ]
        }
      ]
    },
    {
      "cell_type": "markdown",
      "source": [
        "(6) Change the print_all function of a linked list to print all the value of\n",
        "nodes recursively"
      ],
      "metadata": {
        "id": "cyT1ox7RrEmW"
      }
    },
    {
      "cell_type": "code",
      "source": [
        "class Node:\n",
        "  def _init_(self, val):\n",
        "    self.val = val\n",
        "    self.next = None\n",
        "\n",
        "a , b = Node('A') , Node('B')\n",
        "c , d = Node('c') , Node('D')\n",
        "e = Node('E')\n",
        "\n",
        "a.next, b.next = b,c\n",
        "c.next, d.next = d, e\n",
        "\n",
        "def printLinkedListRec(head):\n",
        "  if not head:\n",
        "    return None\n",
        "\n",
        "  print(head.val, end=\"->\")\n",
        "  printLinkedListRec(head.next)\n",
        "\n",
        "printLinkedListRec(a)"
      ],
      "metadata": {
        "id": "-XmBVidIrJlO"
      },
      "execution_count": null,
      "outputs": []
    },
    {
      "cell_type": "markdown",
      "source": [
        "(7) Delete first k'th Node in a linked list using Recursion"
      ],
      "metadata": {
        "id": "2ASzOGXCrMHu"
      }
    },
    {
      "cell_type": "code",
      "source": [],
      "metadata": {
        "id": "hFKG1DWFrRIH"
      },
      "execution_count": null,
      "outputs": []
    }
  ]
}