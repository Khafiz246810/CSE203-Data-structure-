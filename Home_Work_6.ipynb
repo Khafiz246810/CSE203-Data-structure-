{
  "nbformat": 4,
  "nbformat_minor": 0,
  "metadata": {
    "colab": {
      "provenance": [],
      "authorship_tag": "ABX9TyPsTA2yHhjClLHEyLBS9sBj",
      "include_colab_link": true
    },
    "kernelspec": {
      "name": "python3",
      "display_name": "Python 3"
    },
    "language_info": {
      "name": "python"
    }
  },
  "cells": [
    {
      "cell_type": "markdown",
      "metadata": {
        "id": "view-in-github",
        "colab_type": "text"
      },
      "source": [
        "<a href=\"https://colab.research.google.com/github/Khafiz246810/CSE203-Data-structure-/blob/main/Home_Work_6.ipynb\" target=\"_parent\"><img src=\"https://colab.research.google.com/assets/colab-badge.svg\" alt=\"Open In Colab\"/></a>"
      ]
    },
    {
      "cell_type": "code",
      "execution_count": 25,
      "metadata": {
        "id": "kquq5CdVs086"
      },
      "outputs": [],
      "source": [
        "import collections\n",
        "class Node:\n",
        "  def __init__(self, data):\n",
        "    self.data = data\n",
        "    self.right_child = None\n",
        "    self.left_child = None\n",
        "\n",
        "class BinarySearchTree:\n",
        "  def __init__(self):\n",
        "    self.root = None\n",
        "\n",
        "\n",
        "#Insert a node with data into the BST\n",
        "#Insertion of a node in a BST takes O(h), where h is the height of the tree\n",
        "  def insert(self, data):\n",
        "    newnode = Node(data)\n",
        "    if self.root is None:\n",
        "      self.root = newnode\n",
        "    else:\n",
        "      current = self.root\n",
        "      parent = None\n",
        "      while current:\n",
        "        parent = current\n",
        "        if newnode.data <= current.data:\n",
        "          current = current.left_child\n",
        "        else:\n",
        "          current = current.right_child\n",
        "\n",
        "      if  newnode.data <= parent.data:\n",
        "          parent.left_child = newnode\n",
        "      else:\n",
        "        parent.right_child = newnode\n",
        "\n",
        "  def inorder(self, root_node):\n",
        "    current = root_node\n",
        "    if current is None:\n",
        "      return\n",
        "    else:\n",
        "      self.inorder(current.left_child)\n",
        "      print(current.data, end = \",\")\n",
        "      self.inorder(current.right_child)\n",
        "\n",
        "\n",
        "  def printlevelsinlevel(self, root):\n",
        "    ans = []\n",
        "\n",
        "    if root is None:\n",
        "        return ans\n",
        "\n",
        "    queue = collections.deque()\n",
        "    queue.append(root)\n",
        "\n",
        "    while queue:\n",
        "\n",
        "        currSize = len(queue)\n",
        "        currList = []\n",
        "\n",
        "        while currSize > 0:\n",
        "\n",
        "            currNode = queue.popleft()\n",
        "            currList.append(currNode.data)\n",
        "            currSize -= 1\n",
        "\n",
        "            if currNode.left_child is not None:\n",
        "                queue.append(currNode.left_child)\n",
        "\n",
        "            if currNode.right_child is not None:\n",
        "                queue.append(currNode.right_child)\n",
        "        ans.append(currList)\n",
        "    return ans\n",
        "\n",
        "\n",
        "  def IsLeafOddEven(self, root): # For question 3\n",
        "    current = root\n",
        "    if current is None:\n",
        "      return\n",
        "    else:\n",
        "      self.IsLeafOddEven(current.left_child)\n",
        "      if (current.left_child is None and current.right_child is None):\n",
        "        if (current.data %2 == 1):\n",
        "          print(\"odd\", end = \",\")\n",
        "        else:\n",
        "         print(\"even\", end = \",\")\n",
        "      self.IsLeafOddEven(current.right_child)\n",
        "\n",
        "  #Recursive\n",
        "  def countNodesR(self, root): # For question 9\n",
        "    if root is None:\n",
        "      return 0\n",
        "    else:\n",
        "      return 1+ self.countNodesR(root.left_child) + self.countNodesR(root.right_child)\n",
        "  #Iterative\n",
        "  def countNodesIter(self, root):\n",
        "    current = root\n",
        "    stack = []\n",
        "    count = 0\n",
        "    while True:\n",
        "        if current is not None:\n",
        "            stack.append(current)\n",
        "            current = current.left_child\n",
        "\n",
        "        elif(stack):\n",
        "            current = stack.pop()\n",
        "            count = count + 1\n",
        "            current = current.right_child\n",
        "        else:\n",
        "            break\n",
        "    return count"
      ]
    },
    {
      "cell_type": "markdown",
      "source": [
        "1. Write a function that will print nodes for each level of a binary search tree\n"
      ],
      "metadata": {
        "id": "CNN3l-P9THbd"
      }
    },
    {
      "cell_type": "code",
      "source": [
        "class Node:\n",
        "    def __init__(self):\n",
        "        self.data = 0\n",
        "        self.parent = None\n",
        "        self.left = None\n",
        "        self.right = None\n",
        "\n",
        "\n",
        "def insert(root, value):\n",
        "    new_node = Node()\n",
        "    new_node.data = value\n",
        "\n",
        "    if root is None:\n",
        "        root = new_node\n",
        "    elif value < root.data:\n",
        "        root.left = insert(root.left, value)\n",
        "        root.left.parent = root\n",
        "    else:\n",
        "        root.right = insert(root.right, value)\n",
        "        root.right.parent = root\n",
        "\n",
        "    return root\n",
        "\n",
        "\n",
        "def printLevelWise(root):\n",
        "    q1 = Queue()\n",
        "    q2 = Queue()\n",
        "    q2.enqueue(root)\n",
        "    q1.enqueue(q2)\n",
        "\n",
        "    while not q1.is_empty():\n",
        "        front_q = q1.front()\n",
        "\n",
        "        if front_q.qsize():\n",
        "            newq = Queue()\n",
        "            q1.enqueue(newq)\n",
        "        while not front_q.is_empty():\n",
        "            front = front_q.front()\n",
        "            print(front.data, end=' ')\n",
        "\n",
        "            if front.left:\n",
        "                newq.enqueue(front.left)\n",
        "            if front.right:\n",
        "                newq.enqueue(front.right)\n",
        "\n",
        "            front_q.dequeue()\n",
        "\n",
        "        print()\n",
        "        q1.dequeue()\n",
        "\n",
        "    print()\n",
        "\n",
        "main_root = None\n",
        "\n",
        "nodes = [10,5,13,3,7,14]\n",
        "\n",
        "for eachNode in nodes:\n",
        "    main_root = insert(main_root, eachNode)\n",
        "\n",
        "printLevelWise(main_root)"
      ],
      "metadata": {
        "colab": {
          "base_uri": "https://localhost:8080/"
        },
        "id": "lcmrBjCPTORQ",
        "outputId": "fe0ddd0b-242d-4481-9c70-68d7ea8ab5f4"
      },
      "execution_count": 5,
      "outputs": [
        {
          "output_type": "stream",
          "name": "stdout",
          "text": [
            "10 \n",
            "5 13 \n",
            "3 7 14 \n",
            "\n",
            "\n"
          ]
        }
      ]
    },
    {
      "cell_type": "code",
      "source": [
        "# Driver code\n",
        "bst = BinarySearchTree()\n",
        "#                      7\n",
        "#                    /  \\\n",
        "#                   5    15\n",
        "#                  /     / \\\n",
        "#                 3     9   16\n",
        "#                      / \\   \\\n",
        "#                     8  10   17\n",
        "#                           \\\n",
        "#                            11\n",
        "#                              \\\n",
        "#                               13\n",
        "num = [7, 15, 9, 8, 10, 5, 3, 16, 11, 13,  17]\n",
        "for i in range (0,len(num)):\n",
        "     bst.insert(num[i])\n",
        "print(\"Inorder with recursion:\")\n",
        "bst.inorder(bst.root)\n",
        "ans = bst.printlevelsinlevel(bst.root)\n",
        "print(\"Level wise node print:\")\n",
        "for element in ans:\n",
        " print(element)"
      ],
      "metadata": {
        "colab": {
          "base_uri": "https://localhost:8080/"
        },
        "id": "hu9LnsvKoxf4",
        "outputId": "c9a8ce7a-bebd-49aa-aec0-6a72fdf5162b"
      },
      "execution_count": 38,
      "outputs": [
        {
          "output_type": "stream",
          "name": "stdout",
          "text": [
            "Inorder with recursion:\n",
            "3,5,7,8,9,10,11,13,15,16,17,Level wise node print:\n",
            "[7]\n",
            "[5, 15]\n",
            "[3, 9, 16]\n",
            "[8, 10, 17]\n",
            "[11]\n",
            "[13]\n"
          ]
        }
      ]
    },
    {
      "cell_type": "markdown",
      "source": [
        "2. Write a function that will print the largest element in each level of a binary search\n",
        "tree."
      ],
      "metadata": {
        "id": "ZaS0AR63UiBu"
      }
    },
    {
      "cell_type": "code",
      "source": [
        "class Node:\n",
        "    def __init__(self):\n",
        "        self.data = 0\n",
        "        self.parent = None\n",
        "        self.left = None\n",
        "        self.right = None\n",
        "\n",
        "\n",
        "def insert(root, value):\n",
        "    new_node = Node()\n",
        "    new_node.data = value\n",
        "\n",
        "    if root is None:\n",
        "        root = new_node\n",
        "    elif value < root.data:\n",
        "        root.left = insert(root.left, value)\n",
        "        root.left.parent = root\n",
        "    else:\n",
        "        root.right = insert(root.right, value)\n",
        "        root.right.parent = root\n",
        "\n",
        "    return root\n",
        "\n",
        "\n",
        "def printLevelWiseMax(root):\n",
        "    q1 = Queue()\n",
        "    q2 = Queue()\n",
        "    q2.enqueue(root)\n",
        "    q1.enqueue(q2)\n",
        "\n",
        "    while not q1.is_empty():\n",
        "        front_q = q1.front()\n",
        "\n",
        "        if front_q.qsize():\n",
        "            newq = Queue()\n",
        "            q1.enqueue(newq)\n",
        "        while not front_q.is_empty():\n",
        "            front = front_q.front()\n",
        "            if front_q.qsize() < 2:\n",
        "                print(front.data, end=' ')\n",
        "\n",
        "            if front.left:\n",
        "                newq.enqueue(front.left)\n",
        "            if front.right:\n",
        "                newq.enqueue(front.right)\n",
        "\n",
        "            front_q.dequeue()\n",
        "\n",
        "        print()\n",
        "        q1.dequeue()\n",
        "\n",
        "    print()\n",
        "\n",
        "main_root = None\n",
        "\n",
        "nodes = [10,5,13,3,7]\n",
        "\n",
        "for eachNode in nodes:\n",
        "    main_root = insert(main_root, eachNode)\n",
        "\n",
        "printLevelWiseMax(main_root)"
      ],
      "metadata": {
        "colab": {
          "base_uri": "https://localhost:8080/"
        },
        "id": "BpP9puqcUlHN",
        "outputId": "a243beec-7846-47fe-866b-8e61047293d3"
      },
      "execution_count": 6,
      "outputs": [
        {
          "output_type": "stream",
          "name": "stdout",
          "text": [
            "10 \n",
            "13 \n",
            "7 \n",
            "\n",
            "\n"
          ]
        }
      ]
    },
    {
      "cell_type": "markdown",
      "source": [
        "3. Check whether the leaf nodes of a BST is even or odd."
      ],
      "metadata": {
        "id": "3Xx8MKdgV6iY"
      }
    },
    {
      "cell_type": "code",
      "source": [
        "# Driver code\n",
        "bst = BinarySearchTree()\n",
        "#                      7\n",
        "#                    /  \\\n",
        "#                   5    15\n",
        "#                  /     / \\\n",
        "#                 3     9   16\n",
        "#                      / \\   \\\n",
        "#                     8  10   17\n",
        "#                           \\\n",
        "#                            11\n",
        "#                              \\\n",
        "#                               13\n",
        "num = [7, 15, 9, 8, 10, 5, 3, 16, 11, 13,  17]\n",
        "for i in range (0,len(num)):\n",
        "     bst.insert(num[i])\n",
        "print(\"Inorder with recursion: \")\n",
        "bst.inorder(bst.root)\n",
        "print(\"Leaf odd/even: \")\n",
        "bst.IsLeafOddEven(bst.root)"
      ],
      "metadata": {
        "colab": {
          "base_uri": "https://localhost:8080/"
        },
        "id": "YbQe6jWTV68j",
        "outputId": "7221d33b-4bdf-4350-f707-edc0880ceebe"
      },
      "execution_count": 35,
      "outputs": [
        {
          "output_type": "stream",
          "name": "stdout",
          "text": [
            "Inorder with recursion: \n",
            "3,5,7,8,9,10,11,13,15,16,17,Leaf odd/even: \n",
            "odd,even,odd,odd,"
          ]
        }
      ]
    },
    {
      "cell_type": "markdown",
      "source": [
        "4. Traverse a BST and store in the numOfDescendants variable, the\n",
        "number of descendants that each of the nodes in the BST contains."
      ],
      "metadata": {
        "id": "wNmqNCibWkkr"
      }
    },
    {
      "cell_type": "code",
      "source": [
        "class Node:\n",
        "    def __init__(self):\n",
        "        self.data = 0\n",
        "        self.parent = None\n",
        "        self.left = None\n",
        "        self.right = None\n",
        "\n",
        "\n",
        "def insert(root, value):\n",
        "    new_node = Node()\n",
        "    new_node.data = value\n",
        "\n",
        "    if root is None:\n",
        "        root = new_node\n",
        "    elif value < root.data:\n",
        "        root.left = insert(root.left, value)\n",
        "        root.left.parent = root\n",
        "    else:\n",
        "        root.right = insert(root.right, value)\n",
        "        root.right.parent = root\n",
        "\n",
        "    return root\n",
        "\n",
        "\n",
        "def countNumDescendants(root):\n",
        "    q = Queue()\n",
        "    q.enqueue(root)\n",
        "    num_descendants = 0\n",
        "\n",
        "    while not q.is_empty():\n",
        "        front = q.front()\n",
        "\n",
        "        if front.parent is not None:\n",
        "            num_descendants = num_descendants + 1\n",
        "\n",
        "        if front.left:\n",
        "            q.enqueue(front.left)\n",
        "        if front.right:\n",
        "            q.enqueue(front.right)\n",
        "\n",
        "        q.dequeue()\n",
        "\n",
        "    return num_descendants\n",
        "\n",
        "\n",
        "def printDescendants(root):\n",
        "    q = Queue()\n",
        "    q.enqueue(root)\n",
        "\n",
        "    while not q.is_empty():\n",
        "        front = q.front()\n",
        "\n",
        "        n = countNumDescendants(front)\n",
        "        print(front.data, \"has\", n, \"descendants\")\n",
        "\n",
        "        if front.left:\n",
        "            q.enqueue(front.left)\n",
        "        if front.right:\n",
        "            q.enqueue(front.right)\n",
        "\n",
        "        q.dequeue()\n",
        "\n",
        "\n",
        "main_root = None\n",
        "\n",
        "nodes = [7,4,8,3,6,5]\n",
        "\n",
        "for eachNode in nodes:\n",
        "    main_root = insert(main_root, eachNode)\n",
        "\n",
        "\n",
        "printDescendants(main_root)"
      ],
      "metadata": {
        "colab": {
          "base_uri": "https://localhost:8080/"
        },
        "id": "3sc4Rb2WWlER",
        "outputId": "f5248020-3008-4525-b4ee-b420ad41b9dc"
      },
      "execution_count": 10,
      "outputs": [
        {
          "output_type": "stream",
          "name": "stdout",
          "text": [
            "7 has 5 descendants\n",
            "4 has 4 descendants\n",
            "8 has 1 descendants\n",
            "3 has 1 descendants\n",
            "6 has 2 descendants\n",
            "5 has 1 descendants\n"
          ]
        }
      ]
    },
    {
      "cell_type": "markdown",
      "source": [
        "5. Check whether two BSTs are identical or not. Write a function\n",
        "isDuplicate(root1, root2) that will check whether the BST with root1 is\n",
        "exactly identical to the other BST with root2."
      ],
      "metadata": {
        "id": "5ofzd_H_X5vq"
      }
    },
    {
      "cell_type": "code",
      "source": [
        "def isDuplicate(root1, root2):\n",
        "    if (root1 == None and root2 == None) :\n",
        "        return True\n",
        "\n",
        "    elif (root1 != None and root2 == None) :\n",
        "        return False\n",
        "    elif (root1 == None and root2 != None) :\n",
        "        return False\n",
        "    else:\n",
        "        return (root1.data == root2.data and\n",
        "            isDuplicate(root1.left_child, root2.left_child)\n",
        "            and isDuplicate(root1.right_child, root2.right_child))\n",
        "\n",
        "#Driver code\n",
        "bst1 = BinarySearchTree()\n",
        "\n",
        "num = [7, 15, 9, 8, 10, 5, 3, 16, 11, 13,  17]\n",
        "for i in range (0,len(num)):\n",
        "     bst1.insert(num[i])\n",
        "print(\"Inorder with recursion BST1:\")\n",
        "bst1.inorder(bst1.root)\n",
        "print(\"\")\n",
        "bst2 = BinarySearchTree()\n",
        "num = [7, 15, 9, 8, 10, 5, 3, 16, 11, 13,  17]\n",
        "for i in range (0,len(num)):\n",
        "     bst2.insert(num[i])\n",
        "print(\"Inorder with recursion BST2:\")\n",
        "bst2.inorder(bst2.root)\n",
        "print(\"\")\n",
        "bst3 = BinarySearchTree()\n",
        "num = [7, 15, 9, 8, 10, 5, 3, 16, 11, 13]\n",
        "for i in range (0,len(num)):\n",
        "     bst3.insert(num[i])\n",
        "print(\"Inorder with recursion BST3:\")\n",
        "bst3.inorder(bst3.root)\n",
        "print(\"\")\n",
        "print(isDuplicate(bst1.root, bst2.root))\n",
        "print(isDuplicate(bst1.root, bst3.root))"
      ],
      "metadata": {
        "colab": {
          "base_uri": "https://localhost:8080/"
        },
        "id": "1ZawPgTHYD0b",
        "outputId": "29f5e2e8-fc8a-49c0-c809-8f1ca14cfe3d"
      },
      "execution_count": 27,
      "outputs": [
        {
          "output_type": "stream",
          "name": "stdout",
          "text": [
            "Inorder with recursion BST1:\n",
            "3,5,7,8,9,10,11,13,15,16,17,\n",
            "Inorder with recursion BST2:\n",
            "3,5,7,8,9,10,11,13,15,16,17,\n",
            "Inorder with recursion BST3:\n",
            "3,5,7,8,9,10,11,13,15,16,\n",
            "True\n",
            "False\n"
          ]
        }
      ]
    },
    {
      "cell_type": "markdown",
      "source": [
        "7. Write a Function bool isBST(root) to check whether the tree with root is a\n",
        "valid BST or not. Please write the function iteratively and recursively."
      ],
      "metadata": {
        "id": "8ssj1R9QYVw-"
      }
    },
    {
      "cell_type": "code",
      "source": [
        "def find_min(root):\n",
        "    current = root\n",
        "    while current.left_child:\n",
        "      current = current.left_child\n",
        "    return current\n",
        "\n",
        "# Find the node with the maximum value\n",
        "def find_max(root):\n",
        "    current = root\n",
        "    while current.right_child:\n",
        "      current = current.right_child\n",
        "    return current\n",
        "#Recursive\n",
        "def isBST(root):\n",
        "\n",
        "     if (root == None):\n",
        "        return True\n",
        "\n",
        "     if (root.left_child != None and find_max(root.left_child).data > root.data ):\n",
        "        return False\n",
        "\n",
        "     if (root.right_child != None and find_min(root.right_child).data < root.data):\n",
        "        return False\n",
        "\n",
        "     return  (isBST(root.left_child) and isBST(root.right_child))\n",
        "\n",
        "#Iterative\n",
        "def isBSTiter(root):\n",
        "\n",
        "    Stack = []\n",
        "    prev = None\n",
        "\n",
        "    while (Stack or root):\n",
        "         while root:\n",
        "            Stack.append(root)\n",
        "            root = root.left_child\n",
        "         root = Stack.pop()\n",
        "\n",
        "         if (prev and root.data <= prev.data):\n",
        "            return False\n",
        "\n",
        "         prev = root\n",
        "         root = root.right_child\n",
        "\n",
        "    return True\n",
        "\n",
        "#Driver code\n",
        "bst = BinarySearchTree()\n",
        "num = [7, 15, 9, 8, 10, 5, 3, 16, 11, 13,  17]\n",
        "for i in range (0,len(num)):\n",
        "     bst.insert(num[i])\n",
        "print(\"Inorder with recursion BST:\")\n",
        "bst.inorder(bst.root)\n",
        "print(\"\")\n",
        "print(isBST(bst.root))\n",
        "print(isBSTiter(bst.root))"
      ],
      "metadata": {
        "colab": {
          "base_uri": "https://localhost:8080/"
        },
        "id": "xuRxbZQZYfsN",
        "outputId": "5de632dd-a281-4d05-8e70-34b169d2fe65"
      },
      "execution_count": 18,
      "outputs": [
        {
          "output_type": "stream",
          "name": "stdout",
          "text": [
            "Inorder with recursion BST:\n",
            "3,5,7,8,9,10,11,13,15,16,17,\n",
            "True\n",
            "True\n"
          ]
        }
      ]
    },
    {
      "cell_type": "markdown",
      "source": [
        "8. Write a function int calculatesum(root) to calculate sum of all nodes of the\n",
        "BST with root. Please write the function iteratively and recursively."
      ],
      "metadata": {
        "id": "eMX7GtuEY6yQ"
      }
    },
    {
      "cell_type": "code",
      "source": [
        "class Node:\n",
        "    def __init__(self):\n",
        "        self.data = 0\n",
        "        self.parent = None\n",
        "        self.left = None\n",
        "        self.right = None\n",
        "\n",
        "\n",
        "def insert(root, value):\n",
        "    new_node = Node()\n",
        "    new_node.data = value\n",
        "\n",
        "    if root is None:\n",
        "        root = new_node\n",
        "    elif value < root.data:\n",
        "        root.left = insert(root.left, value)\n",
        "        root.left.parent = root\n",
        "    else:\n",
        "        root.right = insert(root.right, value)\n",
        "        root.right.parent = root\n",
        "\n",
        "    return root\n",
        "\n",
        "\n",
        "def calculateSumIterative(root):\n",
        "    q = Queue()\n",
        "    q.enqueue(root)\n",
        "    total = 0\n",
        "\n",
        "    while not q.is_empty():\n",
        "        front = q.front()\n",
        "\n",
        "        if front.left:\n",
        "            q.enqueue(front.left)\n",
        "        if front.right:\n",
        "            q.enqueue(front.right)\n",
        "\n",
        "        total = total + front.data\n",
        "        q.dequeue()\n",
        "\n",
        "    return total\n",
        "\n",
        "\n",
        "def calculateSumRecursive(root):\n",
        "    total = 0\n",
        "\n",
        "    if root:\n",
        "        total = total + root.data\n",
        "        total = total + calculateSumRecursive(root.left)\n",
        "        total = total + calculateSumRecursive(root.right)\n",
        "\n",
        "        return total\n",
        "\n",
        "    return total\n",
        "\n",
        "\n",
        "tree1 = None\n",
        "\n",
        "nodes = [11, 8, 15, 5, 10, 13, 16, 4, 6, 9, 12, 14, 17, 2, 7, 1, 3]\n",
        "\n",
        "for eachNode in nodes:\n",
        "    tree1 = insert(tree1, eachNode)\n",
        "\n",
        "\n",
        "total = calculateSumIterative(tree1)\n",
        "print(total)\n",
        "\n",
        "total = calculateSumRecursive(tree1)\n",
        "print(total)"
      ],
      "metadata": {
        "colab": {
          "base_uri": "https://localhost:8080/"
        },
        "id": "zEyR4obgY-7f",
        "outputId": "a8777e14-c62e-4269-fdbb-d13a6d63254b"
      },
      "execution_count": 19,
      "outputs": [
        {
          "output_type": "stream",
          "name": "stdout",
          "text": [
            "153\n",
            "153\n"
          ]
        }
      ]
    },
    {
      "cell_type": "markdown",
      "source": [
        "9. Write a function int countNodes(root) to calculate number of all nodes\n",
        "of the BST with root. Please write the function iteratively and\n",
        "recursively."
      ],
      "metadata": {
        "id": "aIecVC69aVQ7"
      }
    },
    {
      "cell_type": "code",
      "source": [
        "bst = BinarySearchTree()\n",
        "num = [7, 15, 9, 8, 10, 5, 3, 16, 11, 13,  17]\n",
        "for i in range (0,len(num)):\n",
        "     bst.insert(num[i])\n",
        "print(\"Inorder with recursion BST:\")\n",
        "bst.inorder(bst.root)\n",
        "print(\"\")\n",
        "print(bst.countNodesR(bst.root))\n",
        "print(bst.countNodesIter(bst.root))"
      ],
      "metadata": {
        "colab": {
          "base_uri": "https://localhost:8080/"
        },
        "id": "UOCRn-0paYJS",
        "outputId": "60cdbfeb-01eb-4a20-924d-f6ea0a1390a4"
      },
      "execution_count": 26,
      "outputs": [
        {
          "output_type": "stream",
          "name": "stdout",
          "text": [
            "Inorder with recursion BST:\n",
            "3,5,7,8,9,10,11,13,15,16,17,\n",
            "11\n",
            "11\n"
          ]
        }
      ]
    }
  ]
}