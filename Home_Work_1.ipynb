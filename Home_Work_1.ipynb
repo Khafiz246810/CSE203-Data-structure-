{
  "nbformat": 4,
  "nbformat_minor": 0,
  "metadata": {
    "colab": {
      "provenance": [],
      "include_colab_link": true
    },
    "kernelspec": {
      "name": "python3",
      "display_name": "Python 3"
    },
    "language_info": {
      "name": "python"
    }
  },
  "cells": [
    {
      "cell_type": "markdown",
      "metadata": {
        "id": "view-in-github",
        "colab_type": "text"
      },
      "source": [
        "<a href=\"https://colab.research.google.com/github/Khafiz246810/CSE203-Data-structure-/blob/main/Home_Work_1.ipynb\" target=\"_parent\"><img src=\"https://colab.research.google.com/assets/colab-badge.svg\" alt=\"Open In Colab\"/></a>"
      ]
    },
    {
      "cell_type": "markdown",
      "source": [
        "# 1 .Function Problem"
      ],
      "metadata": {
        "id": "-zT1kfu3bulW"
      }
    },
    {
      "cell_type": "code",
      "source": [
        "#1\n",
        "def triangle (number,character):\n",
        "  for i in range (number):\n",
        "    for k in range (i+1):\n",
        "      print(character,end=\" \" )\n",
        "    print()\n",
        "  return\n",
        "\n",
        "  number=int(input(\"Enter a number : \"))\n",
        "  character=input(\"Enter a characte: \")\n",
        "  print((triangle (number,character)))"
      ],
      "metadata": {
        "id": "WLBX6Qhn2CB3"
      },
      "execution_count": null,
      "outputs": []
    },
    {
      "cell_type": "code",
      "source": [
        "# 2\n",
        "from math import pi\n",
        "def volume (redius):\n",
        "   volume = (4/3)*pi**3\n",
        "   return volume\n",
        "radius = int(input(\"Enter The Radius: \"))\n",
        "b= volume(radius)\n",
        "print(b)"
      ],
      "metadata": {
        "colab": {
          "base_uri": "https://localhost:8080/"
        },
        "id": "qmZdYlAK4cks",
        "outputId": "e7225f39-789e-4303-fc08-81a6555d7b3d"
      },
      "execution_count": null,
      "outputs": [
        {
          "output_type": "stream",
          "name": "stdout",
          "text": [
            "Enter The Radius: 2\n",
            "41.341702240399755\n"
          ]
        }
      ]
    },
    {
      "cell_type": "code",
      "source": [
        "#3\n",
        "def fact(a):\n",
        "  if a==1:\n",
        "    return True\n",
        "  else :\n",
        "    return a*fact(a-1)\n",
        "\n",
        "a=int(input(\"Enter the number : \"))\n",
        "print(fact(a))"
      ],
      "metadata": {
        "colab": {
          "base_uri": "https://localhost:8080/"
        },
        "id": "dMU1Iz416iCE",
        "outputId": "18e5f76a-f680-4108-c2ea-5a6657a1d520"
      },
      "execution_count": null,
      "outputs": [
        {
          "output_type": "stream",
          "name": "stdout",
          "text": [
            "Enter the number : 6\n",
            "720\n"
          ]
        }
      ]
    },
    {
      "cell_type": "code",
      "source": [
        "#4\n",
        "def count(a):\n",
        "  sum = 0\n",
        "  while True:\n",
        "    digit = a % 10\n",
        "    sum += 1\n",
        "    a = a // 10\n",
        "    if(a == 0):\n",
        "      return sum\n",
        "\n",
        "a = int(input('Enter a number: '))\n",
        "count = count(a)\n",
        "print(\"Number of digits: \" + str(count))"
      ],
      "metadata": {
        "colab": {
          "base_uri": "https://localhost:8080/"
        },
        "id": "Xh2x8Gho8m_L",
        "outputId": "9a49c41a-2313-4075-854d-35159492a52f"
      },
      "execution_count": null,
      "outputs": [
        {
          "output_type": "stream",
          "name": "stdout",
          "text": [
            "Enter a number: 786\n",
            "Number of digits: 3\n"
          ]
        }
      ]
    },
    {
      "cell_type": "code",
      "source": [
        "#5\n",
        "\n",
        "i=int(input(\"Enter the number : \"))\n",
        "sum=1\n",
        "while i>0:\n",
        "  sum*=i\n",
        "  i-=1\n",
        "print(\"Sum of the number : \",sum)"
      ],
      "metadata": {
        "colab": {
          "base_uri": "https://localhost:8080/"
        },
        "id": "Z7GkF-6DBZRj",
        "outputId": "abc39d20-e162-4024-f681-848019e85699"
      },
      "execution_count": null,
      "outputs": [
        {
          "output_type": "stream",
          "name": "stdout",
          "text": [
            "Enter the number : 3\n",
            "Sum of the number :  6\n"
          ]
        }
      ]
    },
    {
      "cell_type": "code",
      "source": [
        "# 6\n",
        "def reverse_number(number):\n",
        "  reverse = str(number)[::-1]\n",
        "  return int(reverse)\n",
        "number =int(input(\"Enter the number : \"))\n",
        "result= reverse_number(number)\n",
        "print(\"The reverse number is : \",result)\n"
      ],
      "metadata": {
        "id": "JLY9SHsRCBoL",
        "colab": {
          "base_uri": "https://localhost:8080/"
        },
        "outputId": "7ff6ec21-8fb1-47f4-8779-718e12b232d6"
      },
      "execution_count": null,
      "outputs": [
        {
          "output_type": "stream",
          "name": "stdout",
          "text": [
            "Enter the number : 123\n",
            "The reverse number is :  321\n"
          ]
        }
      ]
    },
    {
      "cell_type": "code",
      "source": [
        "# 7\n",
        "\n",
        "def hcf(x, y):\n",
        "\n",
        "    if x > y:\n",
        "        smaller = y\n",
        "    else:\n",
        "        smaller = x\n",
        "    for i in range(1, smaller+1):\n",
        "        if((x % i == 0) and (y % i == 0)):\n",
        "            hcf = i\n",
        "    return hcf\n",
        "number_1  = int(input(\"Enter first number: \"))\n",
        "number_2  = int(input('Enter second number: '))\n",
        "hcf = hcf(number_1, number_2)\n",
        "print(\"HCF of \" + str(number_1) + \" and \" + str(number_2)+ \" is: \" + str(hcf))\n"
      ],
      "metadata": {
        "colab": {
          "base_uri": "https://localhost:8080/"
        },
        "id": "rUgWyTYbCrCX",
        "outputId": "d848441d-f348-4e8f-bb84-ee88eb5b7de5"
      },
      "execution_count": null,
      "outputs": [
        {
          "output_type": "stream",
          "name": "stdout",
          "text": [
            "Enter first number: 10\n",
            "Enter second number: 100\n",
            "HCF of 10 and 100 is: 10\n"
          ]
        }
      ]
    },
    {
      "cell_type": "code",
      "source": [
        "# 8\n",
        "\n",
        "def lcm(x, y):\n",
        "\n",
        "   if x > y:\n",
        "       greater = x\n",
        "   else:\n",
        "       greater = y\n",
        "\n",
        "   while 1 :\n",
        "       if((greater % x == 0) & (greater % y == 0)):\n",
        "           lcm = greater\n",
        "           break\n",
        "       greater += 1\n",
        "\n",
        "   return lcm\n",
        "number_1  = int(input('Enter first number: '))\n",
        "number_2 = int(input('Enter second number: '))\n",
        "lcm = lcm(number_1 , number_2)\n",
        "print(\"LCM of \" + str(number_1 ) + \" and \" + str(number_2) + \" is: \" + str(lcm));"
      ],
      "metadata": {
        "id": "xxlsTQySDWws"
      },
      "execution_count": null,
      "outputs": []
    },
    {
      "cell_type": "code",
      "source": [
        "# 9\n",
        "a=int(input(\"Write a number : \"))\n",
        "if a >1 :\n",
        "  for i in range (2,a):\n",
        "    if a%i == 0 :\n",
        "      print(a,\"is not prime number \")\n",
        "    else:\n",
        "      print(a, \" is a prime number \")\n",
        "    break\n",
        "\n",
        "def perfect_number(a):\n",
        "  sum = 0\n",
        "  for i in range (1,a):\n",
        "     if (a%i)==0:\n",
        "       sum+=i\n",
        "  if sum == a:\n",
        "    print(a,\"perfect number \")\n",
        "  else:\n",
        "    print(a,\"not perfect number\")\n",
        "\n",
        "a=int(input(\"Write a number : \"))\n",
        "print(perfect_number(a))"
      ],
      "metadata": {
        "id": "QUuY6MpRE_NH",
        "colab": {
          "base_uri": "https://localhost:8080/"
        },
        "outputId": "a4d73e72-b0dc-44aa-b8a3-18a784cbd3cd"
      },
      "execution_count": null,
      "outputs": [
        {
          "output_type": "stream",
          "name": "stdout",
          "text": [
            "Write a number : 13\n",
            "13  is a prime number \n"
          ]
        }
      ]
    },
    {
      "cell_type": "code",
      "source": [
        "# 10\n",
        "\n",
        "import random\n",
        "randomlist = []\n",
        "for i in range(0,10):\n",
        "  n = random.randint(1,30)\n",
        "  randomlist.append(n)\n",
        "print(\"Initial list\")\n",
        "print(randomlist)\n",
        "\n",
        "def OurSort(array, size):\n",
        "    #outer loop\n",
        "    for i in range(size):\n",
        "        min_idx = i\n",
        "        min = array[i]\n",
        "        #inner loop\n",
        "        for j in range(i, size):\n",
        "\n",
        "            # For sorting in descending order\n",
        "            # for minimum element in each loop\n",
        "            if array[j] < array[min_idx]:\n",
        "                min = array[j]\n",
        "                min_idx = j\n",
        "\n",
        "\n",
        "        # Arranging min at the correct position\n",
        "        (array[i], array[min_idx]) = (array[min_idx], array[i])\n",
        "        print(array)\n",
        "size = len(randomlist)\n",
        "OurSort(randomlist, size)\n",
        "print('Sorted Array in Ascending Order is :')\n",
        "print(randomlist)"
      ],
      "metadata": {
        "colab": {
          "base_uri": "https://localhost:8080/"
        },
        "id": "uO_xhD1pFFw_",
        "outputId": "8c0864ce-a967-4152-bcff-47fe6cdc8750"
      },
      "execution_count": null,
      "outputs": [
        {
          "output_type": "stream",
          "name": "stdout",
          "text": [
            "Initial list\n",
            "[25, 11, 12, 2, 9, 27, 15, 1, 17, 27]\n",
            "[1, 11, 12, 2, 9, 27, 15, 25, 17, 27]\n",
            "[1, 2, 12, 11, 9, 27, 15, 25, 17, 27]\n",
            "[1, 2, 9, 11, 12, 27, 15, 25, 17, 27]\n",
            "[1, 2, 9, 11, 12, 27, 15, 25, 17, 27]\n",
            "[1, 2, 9, 11, 12, 27, 15, 25, 17, 27]\n",
            "[1, 2, 9, 11, 12, 15, 27, 25, 17, 27]\n",
            "[1, 2, 9, 11, 12, 15, 17, 25, 27, 27]\n",
            "[1, 2, 9, 11, 12, 15, 17, 25, 27, 27]\n",
            "[1, 2, 9, 11, 12, 15, 17, 25, 27, 27]\n",
            "[1, 2, 9, 11, 12, 15, 17, 25, 27, 27]\n",
            "Sorted Array in Ascending Order is :\n",
            "[1, 2, 9, 11, 12, 15, 17, 25, 27, 27]\n"
          ]
        }
      ]
    },
    {
      "cell_type": "code",
      "source": [
        "# 11\n",
        "\n",
        "import random\n",
        "randomlist = []\n",
        "for i in range(0,10):\n",
        "  n = random.randint(1,100)\n",
        "  randomlist.append(n)\n",
        "print(\"Initial list : \",randomlist)\n",
        "\n",
        "def findMinMaxAverage(array):\n",
        "    size = len(array)\n",
        "    min = array[0]\n",
        "    max = array[0]\n",
        "    sum = 0\n",
        "    for i in range(size):\n",
        "      if (array[i] < min):\n",
        "        min = array[i]\n",
        "      if (array[i] > max):\n",
        "        max = array[i]\n",
        "      sum+=array[i]\n",
        "    avg = sum/size\n",
        "    return min, max, avg\n",
        "\n",
        "minimum, maximum, average = findMinMaxAverage(randomlist)\n",
        "print(\"Minimum: \" + str(minimum))\n",
        "print(\"Maximum: \" + str(maximum))\n",
        "print(\"Average: \" + str(average))"
      ],
      "metadata": {
        "colab": {
          "base_uri": "https://localhost:8080/"
        },
        "id": "_edpXWSLFXkf",
        "outputId": "d9349dc2-a684-473a-cd64-a1a291e811a4"
      },
      "execution_count": null,
      "outputs": [
        {
          "output_type": "stream",
          "name": "stdout",
          "text": [
            "Initial list :  [66, 11, 45, 70, 88, 13, 57, 53, 75, 77]\n",
            "Minimum: 11\n",
            "Maximum: 88\n",
            "Average: 55.5\n"
          ]
        }
      ]
    },
    {
      "cell_type": "code",
      "source": [
        "# 12\n",
        "\n",
        "sentence = \"The book is in front of the table.\"\n",
        "sentence = sentence.lower();\n",
        "sentence = sentence.replace(\".\", \"\")\n",
        "words = sentence.split()\n",
        "len(words)\n",
        "\n",
        "word_frequecny = {}\n",
        "for word in words:\n",
        "  if word not in word_frequecny:\n",
        "    word_frequecny[word] = 1\n",
        "  else:\n",
        "    word_frequecny[word] += 1\n",
        "\n",
        "print (word_frequecny)"
      ],
      "metadata": {
        "colab": {
          "base_uri": "https://localhost:8080/"
        },
        "id": "De5UTNSMFsQn",
        "outputId": "f362dd9e-343a-459e-bd4f-0db2d51dfaca"
      },
      "execution_count": null,
      "outputs": [
        {
          "output_type": "stream",
          "name": "stdout",
          "text": [
            "{'the': 2, 'book': 1, 'is': 1, 'in': 1, 'front': 1, 'of': 1, 'table': 1}\n"
          ]
        }
      ]
    },
    {
      "cell_type": "code",
      "source": [
        "# 13\n"
      ],
      "metadata": {
        "id": "HeJPH-no32r0"
      },
      "execution_count": null,
      "outputs": []
    },
    {
      "cell_type": "code",
      "source": [
        "# 14\n"
      ],
      "metadata": {
        "id": "S1yjkCvF34oi"
      },
      "execution_count": null,
      "outputs": []
    }
  ]
}