{
  "nbformat": 4,
  "nbformat_minor": 0,
  "metadata": {
    "colab": {
      "provenance": [],
      "authorship_tag": "ABX9TyP7/JmMhXQSAKoqRS+79TpL",
      "include_colab_link": true
    },
    "kernelspec": {
      "name": "python3",
      "display_name": "Python 3"
    },
    "language_info": {
      "name": "python"
    }
  },
  "cells": [
    {
      "cell_type": "markdown",
      "metadata": {
        "id": "view-in-github",
        "colab_type": "text"
      },
      "source": [
        "<a href=\"https://colab.research.google.com/github/Khafiz246810/CSE203-Data-structure-/blob/main/Home_Work_5.ipynb\" target=\"_parent\"><img src=\"https://colab.research.google.com/assets/colab-badge.svg\" alt=\"Open In Colab\"/></a>"
      ]
    },
    {
      "cell_type": "code",
      "execution_count": 1,
      "metadata": {
        "id": "Xzbzq1UuWTwI"
      },
      "outputs": [],
      "source": [
        "class Node:\n",
        "  def __init__(self, data):\n",
        "    self.data = data\n",
        "    self.right_child = None\n",
        "    self.left_child = None\n",
        "\n",
        "class BinarySearchTree:\n",
        "  def __init__(self):\n",
        "    self.root = None\n",
        "\n",
        "\n",
        "#Insert a node with data into the BST\n",
        "#Insertion of a node in a BST takes O(h), where h is the height of the tree\n",
        "  def insert(self, data):\n",
        "    newnode = Node(data)\n",
        "    if self.root is None:\n",
        "      self.root = newnode\n",
        "    else:\n",
        "      current = self.root\n",
        "      parent = None\n",
        "      while current:\n",
        "        parent = current\n",
        "        if newnode.data <= current.data:\n",
        "          current = current.left_child\n",
        "        else:\n",
        "          current = current.right_child\n",
        "\n",
        "      if  newnode.data <= parent.data:\n",
        "          parent.left_child = newnode\n",
        "      else:\n",
        "        parent.right_child = newnode\n",
        "\n",
        "  def inorder(self, root_node):\n",
        "    current = root_node\n",
        "    if current is None:\n",
        "      return\n",
        "    else:\n",
        "      self.inorder(current.left_child)\n",
        "      print(current.data)\n",
        "      self.inorder(current.right_child)\n",
        "  def findMaxR(self, root): #For Question 3\n",
        "    #If no BST there\n",
        "    if root == None:\n",
        "      return\n",
        "    #basecase\n",
        "    if(root.right_child is None):\n",
        "      return root.data\n",
        "    #Recursive call\n",
        "    else:\n",
        "      return self.findMaxR(root.right_child)\n",
        "\n",
        "\n",
        "\n",
        "\n",
        "  def findmin(self, root):\n",
        "    #If no BST there\n",
        "    if root == None:\n",
        "      return\n",
        "    #basecase\n",
        "    if(root.left_child is None):\n",
        "      return root.data\n",
        "    #Recursive call\n",
        "    else:\n",
        "      return self.findmin(root.left_child)\n",
        "\n",
        "\n",
        "  def searchR(self, root, data):  # For Question 5\n",
        "    if root is None:\n",
        "      return False\n",
        "    else:\n",
        "      if (data == root.data):\n",
        "        return True\n",
        "      elif (data < root.data):\n",
        "        return self.searchR(root.left_child, data)\n",
        "      else:\n",
        "        return self.searchR(root.right_child, data)"
      ]
    },
    {
      "cell_type": "markdown",
      "source": [
        "1. Write insert(self, data) function that will create a node and insert the node into a BST. You\n",
        "should write the insert function with iteration. Then Take a list of 12 elements. Randomly\n",
        "generate 12 numbers and put them into the list. Then in a loop, use insert function to insert the\n",
        "elements in to a BST"
      ],
      "metadata": {
        "id": "DYY1zKpgOyFD"
      }
    },
    {
      "cell_type": "code",
      "source": [
        "import random\n",
        "bst = BinarySearchTree()\n",
        "for i in range (0, 12):\n",
        "  n = random.randint(0,100)\n",
        "  bst.insert(n)\n",
        "\n",
        "bst.inorder(bst.root)"
      ],
      "metadata": {
        "colab": {
          "base_uri": "https://localhost:8080/"
        },
        "id": "vvub0hNLOz-E",
        "outputId": "0830715a-2b06-4063-a387-0aa32788966d"
      },
      "execution_count": 2,
      "outputs": [
        {
          "output_type": "stream",
          "name": "stdout",
          "text": [
            "0\n",
            "10\n",
            "12\n",
            "29\n",
            "34\n",
            "39\n",
            "60\n",
            "67\n",
            "76\n",
            "81\n",
            "85\n",
            "98\n"
          ]
        }
      ]
    },
    {
      "cell_type": "markdown",
      "source": [
        "2. Write insertR(self, data) that will create a node and insert the node into a BST with recursion.\n",
        "You should not use any iteration."
      ],
      "metadata": {
        "id": "XEkzq3g9PC2Y"
      }
    },
    {
      "cell_type": "code",
      "source": [
        "def insertR(self, node, value):\n",
        "        if node is None:\n",
        "            node = Node(value)\n",
        "            return node\n",
        "        else:\n",
        "            if value <= node.data:\n",
        "                 self.insertR(node.left_child, value)\n",
        "            else:\n",
        "               # node.right_child  =\n",
        "                self.insertR(node.right_child , value)\n",
        "            return node\n",
        "\n",
        "\n",
        "import random\n",
        "bst = BinarySearchTree()\n",
        "for i in range (0, 12):\n",
        "  n = random.randint(0,100)\n",
        "  bst.insert(n)\n",
        "\n",
        "bst.inorder(bst.root)"
      ],
      "metadata": {
        "colab": {
          "base_uri": "https://localhost:8080/"
        },
        "id": "q-ccyPxHPFlt",
        "outputId": "97ce9abb-5182-4797-ca5e-ff7a20e20268"
      },
      "execution_count": 3,
      "outputs": [
        {
          "output_type": "stream",
          "name": "stdout",
          "text": [
            "8\n",
            "14\n",
            "23\n",
            "30\n",
            "44\n",
            "45\n",
            "53\n",
            "66\n",
            "70\n",
            "86\n",
            "94\n",
            "97\n"
          ]
        }
      ]
    },
    {
      "cell_type": "markdown",
      "source": [
        "3. Write findMaxR(self, root) that will return the maximum of a BST using recursion."
      ],
      "metadata": {
        "id": "ItaGvA8lPkh-"
      }
    },
    {
      "cell_type": "code",
      "source": [
        "import random\n",
        "bst = BinarySearchTree()\n",
        "for i in range (0, 12):\n",
        "  n = random.randint(0,100)\n",
        "  bst.insert(n)\n",
        "\n",
        "bst.inorder(bst.root)\n",
        "print(\"Maximum: \")\n",
        "n = bst.findMaxR(bst.root)\n",
        "print(n)"
      ],
      "metadata": {
        "colab": {
          "base_uri": "https://localhost:8080/"
        },
        "id": "4jsnBb-nPnl_",
        "outputId": "65b2e7e8-1bd9-482a-bf19-21cd0cf65bfc"
      },
      "execution_count": 8,
      "outputs": [
        {
          "output_type": "stream",
          "name": "stdout",
          "text": [
            "6\n",
            "9\n",
            "9\n",
            "13\n",
            "13\n",
            "16\n",
            "24\n",
            "32\n",
            "61\n",
            "85\n",
            "87\n",
            "88\n",
            "Maximum: \n",
            "88\n"
          ]
        }
      ]
    },
    {
      "cell_type": "markdown",
      "source": [
        "4. Write findMinR(self, root) that will return the minimum of a BST using recursion."
      ],
      "metadata": {
        "id": "xptu5nlIQDiw"
      }
    },
    {
      "cell_type": "code",
      "source": [
        "import random\n",
        "bst = BinarySearchTree()\n",
        "for i in range (0, 12):\n",
        "  n = random.randint(0,100)\n",
        "  bst.insert(n)\n",
        "\n",
        "bst.inorder(bst.root)\n",
        "print(\"Minimum: \")\n",
        "n = bst.findmin(bst.root)\n",
        "print(n)"
      ],
      "metadata": {
        "colab": {
          "base_uri": "https://localhost:8080/"
        },
        "id": "6YEsSKWSQGLz",
        "outputId": "f1cd2363-4476-46ba-c30d-96d89a0977da"
      },
      "execution_count": 7,
      "outputs": [
        {
          "output_type": "stream",
          "name": "stdout",
          "text": [
            "7\n",
            "7\n",
            "9\n",
            "35\n",
            "36\n",
            "39\n",
            "46\n",
            "56\n",
            "75\n",
            "88\n",
            "98\n",
            "99\n",
            "Minimum: \n",
            "7\n"
          ]
        }
      ]
    },
    {
      "cell_type": "markdown",
      "source": [
        "5. Write searchR(self, root, data) that will search the data in a BST using recursion"
      ],
      "metadata": {
        "id": "NaT-qDVlQgGK"
      }
    },
    {
      "cell_type": "code",
      "source": [
        "import random\n",
        "bst = BinarySearchTree()\n",
        "for i in range (0, 12):\n",
        "  n = random.randint(0,100)\n",
        "  bst.insert(n)\n",
        "bst.inorder(bst.root)\n",
        "data = int(input(\"Enter the data to search : \"))\n",
        "flag =  bst.searchR(bst.root, data)\n",
        "if flag:\n",
        "  print(str(data) + \" is found\")\n",
        "else:\n",
        "  print(str(data) + \" is not found\")"
      ],
      "metadata": {
        "colab": {
          "base_uri": "https://localhost:8080/"
        },
        "id": "ohC0xYyQQiv8",
        "outputId": "c49b4e28-ef5d-4a0d-8dfc-80500e271576"
      },
      "execution_count": 10,
      "outputs": [
        {
          "output_type": "stream",
          "name": "stdout",
          "text": [
            "0\n",
            "1\n",
            "20\n",
            "26\n",
            "38\n",
            "53\n",
            "58\n",
            "65\n",
            "71\n",
            "72\n",
            "72\n",
            "75\n",
            "Enter the data to search : 30 \n",
            "30 is not found\n"
          ]
        }
      ]
    }
  ]
}