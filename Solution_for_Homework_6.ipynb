{
  "nbformat": 4,
  "nbformat_minor": 0,
  "metadata": {
    "colab": {
      "provenance": [],
      "include_colab_link": true
    },
    "kernelspec": {
      "name": "python3",
      "display_name": "Python 3"
    },
    "language_info": {
      "name": "python"
    }
  },
  "cells": [
    {
      "cell_type": "markdown",
      "metadata": {
        "id": "view-in-github",
        "colab_type": "text"
      },
      "source": [
        "<a href=\"https://colab.research.google.com/github/Khafiz246810/CSE203-Data-structure-/blob/main/Solution_for_Homework_6.ipynb\" target=\"_parent\"><img src=\"https://colab.research.google.com/assets/colab-badge.svg\" alt=\"Open In Colab\"/></a>"
      ]
    },
    {
      "cell_type": "code",
      "execution_count": null,
      "metadata": {
        "id": "VoS2aN2FZPG4"
      },
      "outputs": [],
      "source": []
    },
    {
      "cell_type": "markdown",
      "source": [
        "1.\tWrite a function that will print the level of a binary search tree. (Hint use a queue for iterative solution)"
      ],
      "metadata": {
        "id": "uWl9fO3hZx2K"
      }
    },
    {
      "cell_type": "code",
      "source": [
        "import collections\n",
        "class Node:\n",
        "  def __init__(self, data):\n",
        "    self.data = data\n",
        "    self.right_child = None\n",
        "    self.left_child = None\n",
        "\n",
        "class BinarySearchTree:\n",
        "  def __init__(self):\n",
        "    self.root = None\n",
        "\n",
        "\n",
        "#Insert a node with data into the BST\n",
        "#Insertion of a node in a BST takes O(h), where h is the height of the tree\n",
        "  def insert(self, data):\n",
        "    newnode = Node(data)\n",
        "    if self.root is None:\n",
        "      self.root = newnode\n",
        "    else:\n",
        "      current = self.root\n",
        "      parent = None\n",
        "      while current:\n",
        "        parent = current\n",
        "        if newnode.data <= current.data:\n",
        "          current = current.left_child\n",
        "        else:\n",
        "          current = current.right_child\n",
        "\n",
        "      if  newnode.data <= parent.data:\n",
        "          parent.left_child = newnode\n",
        "      else:\n",
        "        parent.right_child = newnode\n",
        "\n",
        "  def inorder(self, root_node):\n",
        "    current = root_node\n",
        "    if current is None:\n",
        "      return\n",
        "    else:\n",
        "      self.inorder(current.left_child)\n",
        "      print(current.data, end = \",\")\n",
        "      self.inorder(current.right_child)\n",
        "\n",
        "\n",
        "  def printlevelsinlevel(self, root):\n",
        "    ans = []\n",
        "\n",
        "    if root is None:\n",
        "        return ans\n",
        "\n",
        "    queue = collections.deque()\n",
        "    queue.append(root)\n",
        "\n",
        "    while queue:\n",
        "\n",
        "        currSize = len(queue)\n",
        "        currList = []\n",
        "\n",
        "        while currSize > 0:\n",
        "\n",
        "            currNode = queue.popleft()\n",
        "            currList.append(currNode.data)\n",
        "            currSize -= 1\n",
        "\n",
        "            if currNode.left_child is not None:\n",
        "                queue.append(currNode.left_child)\n",
        "\n",
        "            if currNode.right_child is not None:\n",
        "                queue.append(currNode.right_child)\n",
        "        ans.append(currList)\n",
        "    return ans\n",
        "\n",
        "\n",
        "  def IsLeafOddEven(self, root): # For question 3\n",
        "    current = root\n",
        "    if current is None:\n",
        "      return\n",
        "    else:\n",
        "      self.IsLeafOddEven(current.left_child)\n",
        "      if (current.left_child is None and current.right_child is None):\n",
        "        if (current.data %2 == 1):\n",
        "          print(\"odd\", end = \",\")\n",
        "        else:\n",
        "         print(\"even\", end = \",\")\n",
        "      self.IsLeafOddEven(current.right_child)\n",
        "\n",
        "  #Recursive\n",
        "  def countNodesR(self, root): # For question 9\n",
        "    if root is None:\n",
        "      return 0\n",
        "    else:\n",
        "      return 1+ self.countNodesR(root.left_child) + self.countNodesR(root.right_child)\n",
        "  #Iterative\n",
        "  def countNodesIter(self, root):\n",
        "    current = root\n",
        "    stack = []\n",
        "    count = 0\n",
        "    while True:\n",
        "        if current is not None:\n",
        "            stack.append(current)\n",
        "            current = current.left_child\n",
        "\n",
        "        elif(stack):\n",
        "            current = stack.pop()\n",
        "            count = count + 1\n",
        "            current = current.right_child\n",
        "        else:\n",
        "            break\n",
        "    return count"
      ],
      "metadata": {
        "id": "rc-YfhCJaCRR"
      },
      "execution_count": null,
      "outputs": []
    },
    {
      "cell_type": "code",
      "source": [
        "# Driver code\n",
        "bst = BinarySearchTree()\n",
        "#                      7\n",
        "#                    /  \\\n",
        "#                   5    15\n",
        "#                  /     / \\\n",
        "#                 3     9   16\n",
        "#                      / \\   \\\n",
        "#                     8  10   17\n",
        "#                           \\\n",
        "#                            11\n",
        "#                              \\\n",
        "#                               13\n",
        "num = [7, 15, 9, 8, 10, 5, 3, 16, 11, 13,  17]\n",
        "for i in range (0,len(num)):\n",
        "     bst.insert(num[i])\n",
        "print(\"Inorder with recursion:\")\n",
        "bst.inorder(bst.root)\n",
        "ans = bst.printlevelsinlevel(bst.root)\n",
        "print(\"Level wise node print:\")\n",
        "for element in ans:\n",
        " print(element)"
      ],
      "metadata": {
        "colab": {
          "base_uri": "https://localhost:8080/"
        },
        "id": "hu9LnsvKoxf4",
        "outputId": "cb51c262-aac5-47d6-f3b3-9c82ea761310"
      },
      "execution_count": null,
      "outputs": [
        {
          "output_type": "stream",
          "name": "stdout",
          "text": [
            "Inorder with recursion:\n",
            "3\n",
            "5\n",
            "7\n",
            "8\n",
            "9\n",
            "10\n",
            "11\n",
            "13\n",
            "15\n",
            "16\n",
            "17\n",
            "Level wise node print:\n",
            "[7]\n",
            "[5, 15]\n",
            "[3, 9, 16]\n",
            "[8, 10, 17]\n",
            "[11]\n",
            "[13]\n"
          ]
        }
      ]
    },
    {
      "cell_type": "markdown",
      "source": [],
      "metadata": {
        "id": "BUprgoLedPdT"
      }
    },
    {
      "cell_type": "markdown",
      "source": [
        "3.\tCheck whether the leaf nodes of a BST is even or odd."
      ],
      "metadata": {
        "id": "HLDWXGsTrVCw"
      }
    },
    {
      "cell_type": "code",
      "source": [
        "# Driver code\n",
        "bst = BinarySearchTree()\n",
        "#                      7\n",
        "#                    /  \\\n",
        "#                   5    15\n",
        "#                  /     / \\\n",
        "#                 3     9   16\n",
        "#                      / \\   \\\n",
        "#                     8  10   17\n",
        "#                           \\\n",
        "#                            11\n",
        "#                              \\\n",
        "#                               13\n",
        "num = [7, 15, 9, 8, 10, 5, 3, 16, 11, 13,  17]\n",
        "for i in range (0,len(num)):\n",
        "     bst.insert(num[i])\n",
        "print(\"Inorder with recursion:\")\n",
        "bst.inorder(bst.root)\n",
        "print(\"Leaf odd/even:\")\n",
        "bst.IsLeafOddEven(bst.root)"
      ],
      "metadata": {
        "colab": {
          "base_uri": "https://localhost:8080/"
        },
        "id": "1iB3LwMBrWgf",
        "outputId": "453b4895-6e1c-4279-ee81-7450ca46afe9"
      },
      "execution_count": null,
      "outputs": [
        {
          "output_type": "stream",
          "name": "stdout",
          "text": [
            "Inorder with recursion:\n",
            "3\n",
            "5\n",
            "7\n",
            "8\n",
            "9\n",
            "10\n",
            "11\n",
            "13\n",
            "15\n",
            "16\n",
            "17\n",
            "Leaf odd/even:\n",
            "odd,even,odd,odd,"
          ]
        }
      ]
    },
    {
      "cell_type": "markdown",
      "source": [
        "5.\tCheck whether two BSTs are identical or not. Write a function isDuplicate(Node* root1, Node* root2) that will check whether the BST with  root1 is exactly identical to the other BST with root2."
      ],
      "metadata": {
        "id": "0RWiVTcNs_FB"
      }
    },
    {
      "cell_type": "code",
      "source": [
        "def isDuplicate(root1, root2):\n",
        "    if (root1 == None and root2 == None) :\n",
        "        return True\n",
        "\n",
        "    elif (root1 != None and root2 == None) :\n",
        "        return False\n",
        "    elif (root1 == None and root2 != None) :\n",
        "        return False\n",
        "    else:\n",
        "        return (root1.data == root2.data and\n",
        "            isDuplicate(root1.left_child, root2.left_child)\n",
        "            and isDuplicate(root1.right_child, root2.right_child))\n",
        "\n",
        "#Driver code\n",
        "bst1 = BinarySearchTree()\n",
        "\n",
        "num = [7, 15, 9, 8, 10, 5, 3, 16, 11, 13,  17]\n",
        "for i in range (0,len(num)):\n",
        "     bst1.insert(num[i])\n",
        "print(\"Inorder with recursion BST1:\")\n",
        "bst1.inorder(bst1.root)\n",
        "print(\"\")\n",
        "bst2 = BinarySearchTree()\n",
        "num = [7, 15, 9, 8, 10, 5, 3, 16, 11, 13,  17]\n",
        "for i in range (0,len(num)):\n",
        "     bst2.insert(num[i])\n",
        "print(\"Inorder with recursion BST2:\")\n",
        "bst2.inorder(bst2.root)\n",
        "print(\"\")\n",
        "bst3 = BinarySearchTree()\n",
        "num = [7, 15, 9, 8, 10, 5, 3, 16, 11, 13]\n",
        "for i in range (0,len(num)):\n",
        "     bst3.insert(num[i])\n",
        "print(\"Inorder with recursion BST3:\")\n",
        "bst3.inorder(bst3.root)\n",
        "print(\"\")\n",
        "print(isDuplicate(bst1.root, bst2.root))\n",
        "print(isDuplicate(bst1.root, bst3.root))"
      ],
      "metadata": {
        "colab": {
          "base_uri": "https://localhost:8080/"
        },
        "id": "gPYrWiURttng",
        "outputId": "1f2d643a-07f9-4b78-f364-9c93b9322aac"
      },
      "execution_count": null,
      "outputs": [
        {
          "output_type": "stream",
          "name": "stdout",
          "text": [
            "Inorder with recursion BST1:\n",
            "3,5,7,8,9,10,11,13,15,16,17,\n",
            "Inorder with recursion BST2:\n",
            "3,5,7,8,9,10,11,13,15,16,17,\n",
            "Inorder with recursion BST3:\n",
            "3,5,7,8,9,10,11,13,15,16,\n",
            "True\n",
            "False\n"
          ]
        }
      ]
    },
    {
      "cell_type": "markdown",
      "source": [
        "7. Write a Function bool isBST(root) to check whether the tree with root is a   valid BST or not. Please write the function iteratively and recursively.\n"
      ],
      "metadata": {
        "id": "cYifOniryTuY"
      }
    },
    {
      "cell_type": "code",
      "source": [
        "def find_min(root):\n",
        "    current = root\n",
        "    while current.left_child:\n",
        "      current = current.left_child\n",
        "    return current\n",
        "\n",
        "# Find the node with the maximum value\n",
        "def find_max(root):\n",
        "    current = root\n",
        "    while current.right_child:\n",
        "      current = current.right_child\n",
        "    return current\n",
        "#Recursive\n",
        "def isBST(root):\n",
        "\n",
        "     if (root == None):\n",
        "        return True\n",
        "\n",
        "     if (root.left_child != None and find_max(root.left_child).data > root.data ):\n",
        "        return False\n",
        "\n",
        "     if (root.right_child != None and find_min(root.right_child).data < root.data):\n",
        "        return False\n",
        "\n",
        "     return  (isBST(root.left_child) and isBST(root.right_child))\n",
        "\n",
        "#Iterative\n",
        "def isBSTiter(root):\n",
        "\n",
        "    Stack = []\n",
        "    prev = None\n",
        "\n",
        "    while (Stack or root):\n",
        "         while root:\n",
        "            Stack.append(root)\n",
        "            root = root.left_child\n",
        "         root = Stack.pop()\n",
        "\n",
        "         if (prev and root.data <= prev.data):\n",
        "            return False\n",
        "\n",
        "         prev = root\n",
        "         root = root.right_child\n",
        "\n",
        "    return True\n",
        "\n",
        "#Driver code\n",
        "bst = BinarySearchTree()\n",
        "num = [7, 15, 9, 8, 10, 5, 3, 16, 11, 13,  17]\n",
        "for i in range (0,len(num)):\n",
        "     bst.insert(num[i])\n",
        "print(\"Inorder with recursion BST:\")\n",
        "bst.inorder(bst.root)\n",
        "print(\"\")\n",
        "print(isBST(bst.root))\n",
        "print(isBSTiter(bst.root))"
      ],
      "metadata": {
        "colab": {
          "base_uri": "https://localhost:8080/"
        },
        "id": "s17PCHycyT8v",
        "outputId": "ae7ad922-e455-4e46-db75-186162db4a70"
      },
      "execution_count": null,
      "outputs": [
        {
          "output_type": "stream",
          "name": "stdout",
          "text": [
            "Inorder with recursion BST:\n",
            "3,5,7,8,9,10,11,13,15,16,17,\n",
            "True\n",
            "True\n"
          ]
        }
      ]
    },
    {
      "cell_type": "markdown",
      "source": [
        "9.\tWrite a function int countNodes(root) to calculate number of all nodes of the BST with root. Please write the function iteratively and recursively."
      ],
      "metadata": {
        "id": "IlLfNiUh3Iel"
      }
    },
    {
      "cell_type": "code",
      "source": [
        "#Driver code\n",
        "bst = BinarySearchTree()\n",
        "num = [7, 15, 9, 8, 10, 5, 3, 16, 11, 13,  17]\n",
        "for i in range (0,len(num)):\n",
        "     bst.insert(num[i])\n",
        "print(\"Inorder with recursion BST:\")\n",
        "bst.inorder(bst.root)\n",
        "print(\"\")\n",
        "print(bst.countNodesR(bst.root))\n",
        "print(bst.countNodesIter(bst.root))"
      ],
      "metadata": {
        "colab": {
          "base_uri": "https://localhost:8080/"
        },
        "id": "-bPNn11z3DO3",
        "outputId": "e24610e9-ed46-44b4-be80-07e5b9cf4033"
      },
      "execution_count": null,
      "outputs": [
        {
          "output_type": "stream",
          "name": "stdout",
          "text": [
            "Inorder with recursion BST:\n",
            "3,5,7,8,9,10,11,13,15,16,17,\n",
            "11\n",
            "11\n"
          ]
        }
      ]
    }
  ]
}