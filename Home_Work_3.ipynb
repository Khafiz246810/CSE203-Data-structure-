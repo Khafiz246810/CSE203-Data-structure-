{
  "nbformat": 4,
  "nbformat_minor": 0,
  "metadata": {
    "colab": {
      "provenance": [],
      "authorship_tag": "ABX9TyMo7HdB+YhLZzoMDKstfb+e",
      "include_colab_link": true
    },
    "kernelspec": {
      "name": "python3",
      "display_name": "Python 3"
    },
    "language_info": {
      "name": "python"
    }
  },
  "cells": [
    {
      "cell_type": "markdown",
      "metadata": {
        "id": "view-in-github",
        "colab_type": "text"
      },
      "source": [
        "<a href=\"https://colab.research.google.com/github/Khafiz246810/CSE203-Data-structure-/blob/main/Home_Work_3.ipynb\" target=\"_parent\"><img src=\"https://colab.research.google.com/assets/colab-badge.svg\" alt=\"Open In Colab\"/></a>"
      ]
    },
    {
      "cell_type": "code",
      "source": [
        "class Node:\n",
        "  def __init__(self,data):\n",
        "    self.data=data\n",
        "    self.next=None\n",
        "\n",
        "class SL:\n",
        "  def __init__(self):\n",
        "    self.head=None\n",
        "    self.size=0\n",
        "\n",
        "\n",
        "# # Append data to the end of the linked list ##\n",
        "  def append(self,new_data):\n",
        "    new_node=Node(new_data)\n",
        "    if self. head is None:\n",
        "      self.head=new_node\n",
        "    else:\n",
        "      current_node=self.head\n",
        "      while current_node.next is not None:\n",
        "        current_node=current_node.next\n",
        "      current_node.next= new_node\n",
        "    self.size +=1\n",
        "## Print The Linked List  ##\n",
        "  def print_all(self):\n",
        "    print(\"Print the List : \")\n",
        "    current_node=self.head\n",
        "    while current_node !=None:\n",
        "      print(current_node.data)\n",
        "      current_node=current_node.next\n",
        " ## Search the Value in the Link List ##\n",
        "  def search(self,data):\n",
        "    current_node=self.head\n",
        "    while current_node !=None:\n",
        "      if current_node.data==data:\n",
        "        return 1\n",
        "      current_node = current_node.next\n",
        "    return 0\n",
        "## Delete even data from the list ##\n",
        "  def deleteeven(self):\n",
        "    if self.size==0:\n",
        "      print(\"List is Empty\")\n",
        "    else:\n",
        "      current_node = self.head\n",
        "      prev = None\n",
        "      while current_node is not None:\n",
        "\n",
        "        if current_node.data % 2 == 0:\n",
        "\n",
        "          if current_node == self.head:\n",
        "            self.head = self.head.next\n",
        "          else:\n",
        "            prev.next = current_node.next\n",
        "\n",
        "        self.size -= 1\n",
        "        prev = current_node\n",
        "        current_node = current_node.next"
      ],
      "metadata": {
        "id": "KkACUf555iet"
      },
      "execution_count": null,
      "outputs": []
    },
    {
      "cell_type": "code",
      "execution_count": null,
      "metadata": {
        "colab": {
          "base_uri": "https://localhost:8080/"
        },
        "id": "jXstlrMP3eGU",
        "outputId": "02ba6533-e229-49f8-8c58-63a73dc14aa8"
      },
      "outputs": [
        {
          "output_type": "stream",
          "name": "stdout",
          "text": [
            "Print the List : \n",
            "5\n",
            "6\n",
            "7\n",
            "8\n",
            "5\n",
            "Average: 6.5\n"
          ]
        }
      ],
      "source": [
        "# 1\n",
        "\n",
        "def getAverage(Head):\n",
        "  current_node=Head\n",
        "  print(current_node.data)\n",
        "  count = 0\n",
        "  sum = 0\n",
        "  if current_node == None :\n",
        "    print(\"List is Empty\")\n",
        "\n",
        "  else :\n",
        "    while current_node is not None:\n",
        "      sum += current_node.data\n",
        "      count+=1\n",
        "      current_node=current_node.next\n",
        "    return sum/count\n",
        "\n",
        "s=SL()\n",
        "s.append(5)\n",
        "s.append(6)\n",
        "s.append(7)\n",
        "s.append(8)\n",
        "s.print_all()\n",
        "a=getAverage(s.head)\n",
        "print(\"Average: \"+str(a))\n"
      ]
    },
    {
      "cell_type": "code",
      "source": [
        "# 2\n",
        "\n",
        "def numOfOccurrences(Head, value):\n",
        "  current_node=Head\n",
        "  print(current_node.value)\n",
        "  count=0\n",
        "  sum=0\n",
        "\n",
        "  if current_node == None:\n",
        "    print(\"List is Empty\")\n",
        "  else:\n",
        "    while current_node is not None:\n",
        "      sum+=current_node\n",
        "      current_node=current_node.next\n",
        "    return\n",
        "\n",
        "\n",
        "s=SL()\n",
        "s.append(5)\n",
        "s.append(6)\n",
        "s.append(7)\n",
        "s.append(8)\n",
        "s.print_all()\n",
        "a=numOfOccurrences(s.head)\n",
        "print(\"sum: \"+str(a))\n",
        "\n",
        "\n",
        "\n",
        "\n"
      ],
      "metadata": {
        "id": "yuomT9Sk69Ge"
      },
      "execution_count": null,
      "outputs": []
    },
    {
      "cell_type": "code",
      "source": [
        "# 3\n",
        "def is_identical(list1, list2):\n",
        "  identical = True\n",
        "  if list1.size!=list2.size:\n",
        "    return False\n",
        "  else:\n",
        "    if list1.size!=0 and list2.size!=0:\n",
        "      current_node1 = list1.head\n",
        "      current_node2 = list2.head\n",
        "\n",
        "      while current_node1 != None:\n",
        "        if current_node1.data == current_node2.data:\n",
        "          identical = True\n",
        "\n",
        "        else:\n",
        "          identical = False\n",
        "          return identical\n",
        "        current_node1 = current_node1.next\n",
        "        current_node2 = current_node2.next\n",
        "\n",
        "  return identical\n",
        "\n",
        "s1 = SL()\n",
        "s1.append(10)\n",
        "s1.append(40)\n",
        "s1.append(30)\n",
        "s2 = SL()\n",
        "s2.append(10)\n",
        "s2.append(80)\n",
        "s2.append(30)\n",
        "print(is_identical(s1,s2))\n",
        "\n",
        "s3 = SL()\n",
        "s3.append(10)\n",
        "s3.append(40)\n",
        "s3.append(30)\n",
        "s4 = SL()\n",
        "s4.append(10)\n",
        "s4.append(40)\n",
        "s4.append(30)\n",
        "print(is_identical(s3,s4))\n"
      ],
      "metadata": {
        "id": "W4liBe30Pn2t",
        "colab": {
          "base_uri": "https://localhost:8080/"
        },
        "outputId": "8358cb4b-405c-443c-de1f-191020121e04"
      },
      "execution_count": null,
      "outputs": [
        {
          "output_type": "stream",
          "name": "stdout",
          "text": [
            "False\n",
            "True\n"
          ]
        }
      ]
    },
    {
      "cell_type": "code",
      "source": [
        "# 4\n",
        "\n"
      ],
      "metadata": {
        "id": "P-tWZ815hN52"
      },
      "execution_count": null,
      "outputs": []
    },
    {
      "cell_type": "code",
      "source": [
        "#5\n",
        "\n",
        "s = SL()\n",
        "s.append(10)\n",
        "s.append(91)\n",
        "s.append(19)\n",
        "s.append(20)\n",
        "s.append(19)\n",
        "s.append(11)\n",
        "s.append(100)\n",
        "s.print_all()\n",
        "s.deleteeven()\n",
        "s.print_all()"
      ],
      "metadata": {
        "colab": {
          "base_uri": "https://localhost:8080/"
        },
        "id": "s2tt0PqvbOhz",
        "outputId": "075fe9ac-8f05-4038-940e-b64e71763317"
      },
      "execution_count": null,
      "outputs": [
        {
          "output_type": "stream",
          "name": "stdout",
          "text": [
            "Print the List : \n",
            "10\n",
            "91\n",
            "19\n",
            "20\n",
            "19\n",
            "11\n",
            "100\n",
            "Print the List : \n",
            "91\n",
            "19\n",
            "19\n",
            "11\n"
          ]
        }
      ]
    },
    {
      "cell_type": "code",
      "source": [
        "\n",
        "# 7\n",
        "\n",
        "def reverse(Head):\n",
        "    current_node = Head\n",
        "    prev = None\n",
        "\n",
        "    while(current_node is not None):\n",
        "            next = current_node.next\n",
        "            current_node.next = prev\n",
        "            prev = current_node\n",
        "            current_node = next\n",
        "    return prev\n",
        "\n",
        "\n",
        "s = SL()\n",
        "s.append(10)\n",
        "s.append(91)\n",
        "s.append(19)\n",
        "s.append(20)\n",
        "s.append(19)\n",
        "s.append(11)\n",
        "s.append(100)\n",
        "s.append(200)\n",
        "s.print_all()\n",
        "s.head = reverse(s.head)\n",
        "s.print_all()"
      ],
      "metadata": {
        "colab": {
          "base_uri": "https://localhost:8080/"
        },
        "id": "XY42dGtOdh4t",
        "outputId": "c0b134ea-2b9f-4d0f-c6a1-fb067fbb6fc1"
      },
      "execution_count": null,
      "outputs": [
        {
          "output_type": "stream",
          "name": "stdout",
          "text": [
            "Print the List : \n",
            "10\n",
            "91\n",
            "19\n",
            "20\n",
            "19\n",
            "11\n",
            "100\n",
            "200\n",
            "Print the List : \n",
            "200\n",
            "100\n",
            "11\n",
            "19\n",
            "20\n",
            "19\n",
            "91\n",
            "10\n"
          ]
        }
      ]
    }
  ]
}